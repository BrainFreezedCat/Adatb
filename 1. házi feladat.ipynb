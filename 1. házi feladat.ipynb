{
    "metadata": {
        "kernelspec": {
            "name": "SQL",
            "display_name": "SQL",
            "language": "sql"
        },
        "language_info": {
            "name": "sql",
            "version": ""
        }
    },
    "nbformat_minor": 2,
    "nbformat": 4,
    "cells": [
        {
            "cell_type": "markdown",
            "source": [
                "A TailspinToys2020-us  adatbázis, sales táblájának UnitPrice oszlopa"
            ],
            "metadata": {
                "azdata_cell_guid": "199f8c46-701b-40d6-8302-c4cd92355e34"
            },
            "attachments": {}
        },
        {
            "cell_type": "code",
            "source": [
                "SELECT   stdev(s.UnitPrice) as 'Eladási ár szórása',\r\n",
                "         avg(s.UnitPrice) as 'Átlagos eladási ár',\r\n",
                "         count(s.UnitPrice) as 'Eltérö eladási értékek száma'\r\n",
                "\r\n",
                "from Sales S \r\n",
                "where S.UnitPrice is not null"
            ],
            "metadata": {
                "azdata_cell_guid": "f549e904-b5d0-40c6-8b4e-651e1771a753",
                "language": "sql",
                "tags": []
            },
            "outputs": [
                {
                    "output_type": "display_data",
                    "data": {
                        "text/html": "(1 row affected)"
                    },
                    "metadata": {}
                },
                {
                    "output_type": "display_data",
                    "data": {
                        "text/html": "Total execution time: 00:00:00.206"
                    },
                    "metadata": {}
                },
                {
                    "output_type": "execute_result",
                    "execution_count": 10,
                    "data": {
                        "application/vnd.dataresource+json": {
                            "schema": {
                                "fields": [
                                    {
                                        "name": "Eladási ár szórása"
                                    },
                                    {
                                        "name": "Átlagos eladási ár"
                                    },
                                    {
                                        "name": "Eltérö eladási értékek száma"
                                    }
                                ]
                            },
                            "data": [
                                {
                                    "Eladási ár szórása": "161.3725206213521",
                                    "Átlagos eladási ár": "267.475080",
                                    "Eltérö eladási értékek száma": "357033"
                                }
                            ]
                        },
                        "text/html": "<table><tr><th>Eladási ár szórása</th><th>Átlagos eladási ár</th><th>Eltérö eladási értékek száma</th></tr><tr><td>161.3725206213521</td><td>267.475080</td><td>357033</td></tr></table>"
                    },
                    "metadata": {}
                }
            ],
            "execution_count": 10
        },
        {
            "cell_type": "markdown",
            "source": [
                "A TailspinToys2020-us  adatbázis,"
            ],
            "metadata": {
                "language": "sql",
                "azdata_cell_guid": "976a6e40-05a7-474a-b3cc-58e650731abc"
            },
            "attachments": {}
        },
        {
            "cell_type": "code",
            "source": [
                ""
            ],
            "metadata": {
                "azdata_cell_guid": "d964c457-61a6-49e5-aef0-2e81da6d212a",
                "language": "sql"
            },
            "outputs": [],
            "execution_count": null
        }
    ]
}
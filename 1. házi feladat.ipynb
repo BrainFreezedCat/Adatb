{
    "metadata": {
        "kernelspec": {
            "name": "SQL",
            "display_name": "SQL",
            "language": "sql"
        },
        "language_info": {
            "name": "sql",
            "version": ""
        }
    },
    "nbformat_minor": 2,
    "nbformat": 4,
    "cells": [
        {
            "cell_type": "markdown",
            "source": [
                "A TailspinToys2020-us  adatbázis, sales táblájának UnitPrice oszlopa."
            ],
            "metadata": {
                "azdata_cell_guid": "199f8c46-701b-40d6-8302-c4cd92355e34"
            },
            "attachments": {}
        },
        {
            "cell_type": "code",
            "source": [
                "SELECT   stdev(s.UnitPrice) as 'Eladási ár szórása',\r\n",
                "         avg(s.UnitPrice) as 'Átlagos eladási ár',\r\n",
                "         max(S.UnitPrice) as 'Legmagasabb eladási ár',\r\n",
                "         min(S.UnitPrice) as 'Legalacsonyabb eladási ár'\r\n",
                "\r\n",
                "from Sales S \r\n",
                "where S.UnitPrice is not null\r\n",
                "\r\n",
                "select count(s.UnitPrice) as 'Eltérö eladási értékek száma'\r\n",
                "from sales s \r\n",
                "where s.UnitPrice is not null"
            ],
            "metadata": {
                "azdata_cell_guid": "f549e904-b5d0-40c6-8b4e-651e1771a753",
                "language": "sql",
                "tags": [
                    "hide_input"
                ]
            },
            "outputs": [
                {
                    "output_type": "display_data",
                    "data": {
                        "text/html": "(1 row affected)"
                    },
                    "metadata": {}
                },
                {
                    "output_type": "display_data",
                    "data": {
                        "text/html": "(1 row affected)"
                    },
                    "metadata": {}
                },
                {
                    "output_type": "display_data",
                    "data": {
                        "text/html": "Total execution time: 00:00:00.264"
                    },
                    "metadata": {}
                },
                {
                    "output_type": "execute_result",
                    "metadata": {
                        "azdata_chartOptions": {
                            "type": "bar",
                            "dataDirection": "horizontal",
                            "columnsAsLabels": true,
                            "labelFirstColumn": false,
                            "legendPosition": "top"
                        }
                    },
                    "execution_count": 13,
                    "data": {
                        "application/vnd.dataresource+json": {
                            "schema": {
                                "fields": [
                                    {
                                        "name": "Eladási ár szórása"
                                    },
                                    {
                                        "name": "Átlagos eladási ár"
                                    },
                                    {
                                        "name": "Legmagasabb eladási ár"
                                    },
                                    {
                                        "name": "Legalacsonyabb eladási ár"
                                    }
                                ]
                            },
                            "data": [
                                {
                                    "Eladási ár szórása": "161.3725206213521",
                                    "Átlagos eladási ár": "267.475080",
                                    "Legmagasabb eladási ár": "579.55",
                                    "Legalacsonyabb eladási ár": "49.95"
                                }
                            ]
                        },
                        "text/html": [
                            "<table>",
                            "<tr><th>Eladási ár szórása</th><th>Átlagos eladási ár</th><th>Legmagasabb eladási ár</th><th>Legalacsonyabb eladási ár</th></tr>",
                            "<tr><td>161.3725206213521</td><td>267.475080</td><td>579.55</td><td>49.95</td></tr>",
                            "</table>"
                        ]
                    }
                },
                {
                    "output_type": "execute_result",
                    "metadata": {},
                    "execution_count": 13,
                    "data": {
                        "application/vnd.dataresource+json": {
                            "schema": {
                                "fields": [
                                    {
                                        "name": "Eltérö eladási értékek száma"
                                    }
                                ]
                            },
                            "data": [
                                {
                                    "Eltérö eladási értékek száma": "357033"
                                }
                            ]
                        },
                        "text/html": [
                            "<table>",
                            "<tr><th>Eltérö eladási értékek száma</th></tr>",
                            "<tr><td>357033</td></tr>",
                            "</table>"
                        ]
                    }
                }
            ],
            "execution_count": 13
        },
        {
            "cell_type": "markdown",
            "source": [
                ""
            ],
            "metadata": {
                "azdata_cell_guid": "4934dc28-5257-4615-b44b-7cc58e05f796"
            }
        },
        {
            "cell_type": "markdown",
            "source": [
                "A TailspinToys2020-us adatbázis, sales táblájának CustomerStateID oszlopa."
            ],
            "metadata": {
                "language": "sql",
                "azdata_cell_guid": "976a6e40-05a7-474a-b3cc-58e650731abc"
            },
            "attachments": {}
        },
        {
            "cell_type": "code",
            "source": [
                "select  stdev(S.CustomerStateID) as 'Rendelés állam kódjának szórása',\r\n",
                "        max(S.CustomerStateID) as 'A legnagyobb állam kód',\r\n",
                "        min(S.CustomerStateID) as 'A legkisebb állam kód'\r\n",
                "        \r\n",
                "from Sales S \r\n",
                "where S.CustomerStateID is not null\r\n",
                ""
            ],
            "metadata": {
                "azdata_cell_guid": "d964c457-61a6-49e5-aef0-2e81da6d212a",
                "language": "sql",
                "tags": [
                    "hide_input"
                ]
            },
            "outputs": [
                {
                    "output_type": "display_data",
                    "data": {
                        "text/html": "(1 row affected)"
                    },
                    "metadata": {}
                },
                {
                    "output_type": "display_data",
                    "data": {
                        "text/html": "Total execution time: 00:00:00.123"
                    },
                    "metadata": {}
                },
                {
                    "output_type": "execute_result",
                    "metadata": {
                        "azdata_chartOptions": {
                            "type": "bar",
                            "dataDirection": "horizontal",
                            "columnsAsLabels": true,
                            "labelFirstColumn": false,
                            "legendPosition": "top"
                        }
                    },
                    "execution_count": 10,
                    "data": {
                        "application/vnd.dataresource+json": {
                            "schema": {
                                "fields": [
                                    {
                                        "name": "Rendelés állam kódjának szórása"
                                    },
                                    {
                                        "name": "A legnagyobb állam kód"
                                    },
                                    {
                                        "name": "A legkisebb állam kód"
                                    }
                                ]
                            },
                            "data": [
                                {
                                    "Rendelés állam kódjának szórása": "14.381827593818208",
                                    "A legnagyobb állam kód": "50",
                                    "A legkisebb állam kód": "1"
                                }
                            ]
                        },
                        "text/html": [
                            "<table>",
                            "<tr><th>Rendelés állam kódjának szórása</th><th>A legnagyobb állam kód</th><th>A legkisebb állam kód</th></tr>",
                            "<tr><td>14.381827593818208</td><td>50</td><td>1</td></tr>",
                            "</table>"
                        ]
                    }
                }
            ],
            "execution_count": 10
        },
        {
            "cell_type": "markdown",
            "source": [
                "A TailspinToys2020-us adatbázis, product táblájának ProductName  és RetailPrice oszlopa."
            ],
            "metadata": {
                "language": "sql",
                "azdata_cell_guid": "392060c4-1a04-40b2-9473-e25214f839c0"
            },
            "attachments": {}
        },
        {
            "cell_type": "code",
            "source": [
                "select  ProductName as value,\r\n",
                "        count(*) as Elöfordulások\r\n",
                "from Product P \r\n",
                "group by ProductName\r\n",
                "order by ProductName\r\n",
                "\r\n",
                "select  avg(RetailPrice) as 'Átlag eladási ár',\r\n",
                "        max(RetailPrice) as 'Legmagasabb eladási ár',\r\n",
                "        min(RetailPrice) as 'Legalacsonyabb eladási ár'\r\n",
                "from product \r\n",
                ""
            ],
            "metadata": {
                "azdata_cell_guid": "f93b0c63-8f65-4cea-995c-4b72b24a759b",
                "language": "sql",
                "tags": []
            },
            "outputs": [
                {
                    "output_type": "display_data",
                    "data": {
                        "text/html": "(20 rows affected)"
                    },
                    "metadata": {}
                },
                {
                    "output_type": "display_data",
                    "data": {
                        "text/html": "(1 row affected)"
                    },
                    "metadata": {}
                },
                {
                    "output_type": "display_data",
                    "data": {
                        "text/html": "Total execution time: 00:00:00.024"
                    },
                    "metadata": {}
                },
                {
                    "output_type": "execute_result",
                    "metadata": {},
                    "execution_count": 20,
                    "data": {
                        "application/vnd.dataresource+json": {
                            "schema": {
                                "fields": [
                                    {
                                        "name": "value"
                                    },
                                    {
                                        "name": "Elöfordulások"
                                    }
                                ]
                            },
                            "data": [
                                {
                                    "value": "3CAX-B Helicopter",
                                    "Elöfordulások": "1"
                                },
                                {
                                    "value": "3CFP-I Helicopter",
                                    "Elöfordulások": "1"
                                },
                                {
                                    "value": "4CAX-B Helicopter",
                                    "Elöfordulások": "1"
                                },
                                {
                                    "value": "4CFP-I Helicopter",
                                    "Elöfordulások": "1"
                                },
                                {
                                    "value": "6CCP-A Helicopter",
                                    "Elöfordulások": "1"
                                },
                                {
                                    "value": "P47 4 Channel",
                                    "Elöfordulások": "1"
                                },
                                {
                                    "value": "P47 5 Channel",
                                    "Elöfordulások": "1"
                                },
                                {
                                    "value": "P51",
                                    "Elöfordulások": "1"
                                },
                                {
                                    "value": "Piper Cub 3 Channel",
                                    "Elöfordulások": "1"
                                },
                                {
                                    "value": "Piper Cub 4 Channel",
                                    "Elöfordulások": "1"
                                },
                                {
                                    "value": "SkyTrainer",
                                    "Elöfordulások": "1"
                                },
                                {
                                    "value": "Tailspin Aviator Mk2-11",
                                    "Elöfordulások": "1"
                                },
                                {
                                    "value": "Tailspin Aviator Mk2-12",
                                    "Elöfordulások": "1"
                                },
                                {
                                    "value": "Tailspin Aviator Mk2-15",
                                    "Elöfordulások": "1"
                                },
                                {
                                    "value": "Tailspin Heli - Co-Ax Pro Mk I - 4ch",
                                    "Elöfordulások": "1"
                                },
                                {
                                    "value": "Tailspin Heli - Max Pro Flight - 6ch",
                                    "Elöfordulások": "1"
                                },
                                {
                                    "value": "Tailspin Heli - Pro Mk III - 5ch",
                                    "Elöfordulások": "1"
                                },
                                {
                                    "value": "Tailspin Warbird BM32",
                                    "Elöfordulások": "1"
                                },
                                {
                                    "value": "Trainer - Tailspin GL-120",
                                    "Elöfordulások": "1"
                                },
                                {
                                    "value": "Trainer - Tailspin GL-155",
                                    "Elöfordulások": "1"
                                }
                            ]
                        },
                        "text/html": [
                            "<table>",
                            "<tr><th>value</th><th>Elöfordulások</th></tr>",
                            "<tr><td>3CAX-B Helicopter</td><td>1</td></tr>",
                            "<tr><td>3CFP-I Helicopter</td><td>1</td></tr>",
                            "<tr><td>4CAX-B Helicopter</td><td>1</td></tr>",
                            "<tr><td>4CFP-I Helicopter</td><td>1</td></tr>",
                            "<tr><td>6CCP-A Helicopter</td><td>1</td></tr>",
                            "<tr><td>P47 4 Channel</td><td>1</td></tr>",
                            "<tr><td>P47 5 Channel</td><td>1</td></tr>",
                            "<tr><td>P51</td><td>1</td></tr>",
                            "<tr><td>Piper Cub 3 Channel</td><td>1</td></tr>",
                            "<tr><td>Piper Cub 4 Channel</td><td>1</td></tr>",
                            "<tr><td>SkyTrainer</td><td>1</td></tr>",
                            "<tr><td>Tailspin Aviator Mk2-11</td><td>1</td></tr>",
                            "<tr><td>Tailspin Aviator Mk2-12</td><td>1</td></tr>",
                            "<tr><td>Tailspin Aviator Mk2-15</td><td>1</td></tr>",
                            "<tr><td>Tailspin Heli - Co-Ax Pro Mk I - 4ch</td><td>1</td></tr>",
                            "<tr><td>Tailspin Heli - Max Pro Flight - 6ch</td><td>1</td></tr>",
                            "<tr><td>Tailspin Heli - Pro Mk III - 5ch</td><td>1</td></tr>",
                            "<tr><td>Tailspin Warbird BM32</td><td>1</td></tr>",
                            "<tr><td>Trainer - Tailspin GL-120</td><td>1</td></tr>",
                            "<tr><td>Trainer - Tailspin GL-155</td><td>1</td></tr>",
                            "</table>"
                        ]
                    }
                },
                {
                    "output_type": "execute_result",
                    "metadata": {
                        "azdata_chartOptions": {
                            "type": "bar",
                            "dataDirection": "horizontal",
                            "columnsAsLabels": true,
                            "labelFirstColumn": false,
                            "legendPosition": "top"
                        }
                    },
                    "execution_count": 20,
                    "data": {
                        "application/vnd.dataresource+json": {
                            "schema": {
                                "fields": [
                                    {
                                        "name": "Átlag eladási ár"
                                    },
                                    {
                                        "name": "Legmagasabb eladási ár"
                                    },
                                    {
                                        "name": "Legalacsonyabb eladási ár"
                                    }
                                ]
                            },
                            "data": [
                                {
                                    "Átlag eladási ár": "223.31",
                                    "Legmagasabb eladási ár": "579.55",
                                    "Legalacsonyabb eladási ár": "63.55"
                                }
                            ]
                        },
                        "text/html": [
                            "<table>",
                            "<tr><th>Átlag eladási ár</th><th>Legmagasabb eladási ár</th><th>Legalacsonyabb eladási ár</th></tr>",
                            "<tr><td>223.31</td><td>579.55</td><td>63.55</td></tr>",
                            "</table>"
                        ]
                    }
                }
            ],
            "execution_count": 20
        },
        {
            "cell_type": "markdown",
            "source": [
                "A TailspinToys2020-us adatbázis, product táblájának ProductCategory oszlopa."
            ],
            "metadata": {
                "azdata_cell_guid": "5fc1fd43-416b-490c-bb06-52b1d7ff4ef0"
            },
            "attachments": {}
        },
        {
            "cell_type": "code",
            "source": [
                "SELECT  ProductCategory as value,\r\n",
                "        count(*) as 'Elöfordulások száma'\r\n",
                "\r\n",
                "from product\r\n",
                "\r\n",
                "group by ProductCategory\r\n",
                "order by ProductCategory\r\n",
                "\r\n",
                "SELECT count(distinct ProductCategory) as 'Egyedi termék kategóriák'\r\n",
                "\r\n",
                "from product\r\n",
                "\r\n",
                "group by ProductCategory\r\n",
                "order by ProductCategory\r\n",
                ""
            ],
            "metadata": {
                "azdata_cell_guid": "b5c4f04a-6522-4784-b48d-3dfb5ad7b5f2",
                "language": "sql",
                "tags": []
            },
            "outputs": [],
            "execution_count": null
        }
    ]
}